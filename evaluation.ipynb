{
 "cells": [
  {
   "cell_type": "code",
   "execution_count": 1,
   "metadata": {},
   "outputs": [],
   "source": [
    "import gym\n",
    "from random import getrandbits\n",
    "from hus_bao.rl.model import build_model\n",
    "from hus_bao.rl.agents import RandomAgent, MinimaxRLAgent\n",
    "from tqdm import trange"
   ]
  },
  {
   "cell_type": "markdown",
   "metadata": {},
   "source": [
    "## probability based alpha beta-pruning minimax rl agent with fully connected dense-network estimator (185 epochs)"
   ]
  },
  {
   "cell_type": "code",
   "execution_count": 2,
   "metadata": {},
   "outputs": [
    {
     "name": "stderr",
     "output_type": "stream",
     "text": [
      "C:\\Users\\L\\AppData\\Roaming\\Python\\Python37\\site-packages\\gym\\envs\\registration.py:14: PkgResourcesDeprecationWarning: Parameters to load are deprecated.  Call .resolve and .require separately.\n",
      "  result = entry_point.load(False)\n"
     ]
    }
   ],
   "source": [
    "env = gym.make(\"HusBao-v0\")\n",
    "\n",
    "model_path = 'F:/model_checkpoints/hus_bao/test2/weights.185-42.45.hdf5'\n",
    "model = build_model('test2')\n",
    "model.load_weights(model_path)"
   ]
  },
  {
   "cell_type": "code",
   "execution_count": 3,
   "metadata": {},
   "outputs": [
    {
     "name": "stderr",
     "output_type": "stream",
     "text": [
      "Games: 1000 RL-Agent Wins: 998: 100%|████████████████████████████████████████████| 1000/1000 [5:07:52<00:00, 18.47s/it]"
     ]
    },
    {
     "name": "stdout",
     "output_type": "stream",
     "text": [
      "RL-Agent Wins: 998 (99.8%)\n"
     ]
    },
    {
     "name": "stderr",
     "output_type": "stream",
     "text": [
      "\n"
     ]
    }
   ],
   "source": [
    "rand = RandomAgent()\n",
    "rl = MinimaxRLAgent(model, 0.0, min_prob=0.001, choose_highest_rated_move=True)\n",
    "\n",
    "wins_rand = 0\n",
    "wins_rl = 0\n",
    "\n",
    "\n",
    "with trange(1000) as t:\n",
    "    for i in t:\n",
    "        env.reset()\n",
    "        first = getrandbits(1)\n",
    "        if first == 1:\n",
    "            current_agent = rl\n",
    "            waiting_agent = rand\n",
    "        else:\n",
    "            current_agent = rand\n",
    "            waiting_agent = rl\n",
    "\n",
    "        while not env.done:\n",
    "            env.step(current_agent.move(env.state, env.get_available_actions()))\n",
    "            current_agent, waiting_agent = waiting_agent, current_agent\n",
    "        if (first == 0 and env.outcome == 1) or (first == 1 and env.outcome == -1):\n",
    "            wins_rl += 1\n",
    "        t.set_description('Games: %i RL-Agent Wins: %i' % (i + 1, wins_rl))\n",
    "\n",
    "print(\"RL-Agent Wins: \" + str(wins_rl) + \" (\" + str(wins_rl / 10) + \"%)\")"
   ]
  }
 ],
 "metadata": {
  "kernelspec": {
   "display_name": "Python 3",
   "language": "python",
   "name": "python3"
  },
  "language_info": {
   "codemirror_mode": {
    "name": "ipython",
    "version": 3
   },
   "file_extension": ".py",
   "mimetype": "text/x-python",
   "name": "python",
   "nbconvert_exporter": "python",
   "pygments_lexer": "ipython3",
   "version": "3.7.5"
  }
 },
 "nbformat": 4,
 "nbformat_minor": 2
}
