{
 "cells": [
  {
   "cell_type": "code",
   "execution_count": 1,
   "metadata": {},
   "outputs": [],
   "source": [
    "import gym\n",
    "from random import getrandbits\n",
    "from bao_game.rl.model import build_model\n",
    "from bao_game.rl.agents import RandomAgent, MinimaxRLAgent\n",
    "from bao_game.envs.bao_utils import *\n",
    "from tqdm import trange"
   ]
  },
  {
   "cell_type": "markdown",
   "metadata": {},
   "source": [
    "## probability capped alpha beta-pruning minimax rl agent with fully connected dense-network estimator (30 epochs)"
   ]
  },
  {
   "cell_type": "code",
   "execution_count": 2,
   "metadata": {
    "scrolled": true
   },
   "outputs": [
    {
     "name": "stderr",
     "output_type": "stream",
     "text": [
      "C:\\Users\\L\\AppData\\Roaming\\Python\\Python37\\site-packages\\gym\\envs\\registration.py:14: PkgResourcesDeprecationWarning: Parameters to load are deprecated.  Call .resolve and .require separately.\n",
      "  result = entry_point.load(False)\n"
     ]
    }
   ],
   "source": [
    "env = gym.make(\"Bao-v0\")\n",
    "\n",
    "model_path = 'F:/model_checkpoints/bao_game/test2/weights.30-3.89.hdf5'\n",
    "model = build_model('test2')\n",
    "model.load_weights(model_path)"
   ]
  },
  {
   "cell_type": "code",
   "execution_count": 3,
   "metadata": {},
   "outputs": [
    {
     "name": "stderr",
     "output_type": "stream",
     "text": [
      "Games: 1000 RL-Agent Wins: 1000: 100%|█████████████████████████████████████████████| 1000/1000 [29:01<00:00,  1.74s/it]"
     ]
    },
    {
     "name": "stdout",
     "output_type": "stream",
     "text": [
      "RL-Agent Wins: 1000 (100.0%)\n"
     ]
    },
    {
     "name": "stderr",
     "output_type": "stream",
     "text": [
      "\n"
     ]
    }
   ],
   "source": [
    "rand = RandomAgent()\n",
    "rl = MinimaxRLAgent(model, 0.0, min_prob=0.5, choose_highest_rated_move=True)  # very shallow search\n",
    "\n",
    "wins_rand = 0\n",
    "wins_rl = 0\n",
    "\n",
    "\n",
    "with trange(1000) as t:\n",
    "    for i in t:\n",
    "        env.reset()\n",
    "        first = getrandbits(1)\n",
    "        if first == 1:\n",
    "            current_agent = rl\n",
    "            waiting_agent = rand\n",
    "        else:\n",
    "            current_agent = rand\n",
    "            waiting_agent = rl\n",
    "\n",
    "        while not env.done:\n",
    "            env.step(current_agent.move(env.state, get_available_actions(state=env.state)))\n",
    "            current_agent, waiting_agent = waiting_agent, current_agent\n",
    "        if (first == 0 and env.outcome == 1) or (first == 1 and env.outcome == -1):\n",
    "            wins_rl += 1\n",
    "        t.set_description('Games: %i RL-Agent Wins: %i' % (i + 1, wins_rl))\n",
    "\n",
    "print(\"RL-Agent Wins: \" + str(wins_rl) + \" (\" + str(wins_rl / 10) + \"%)\")"
   ]
  },
  {
   "cell_type": "code",
   "execution_count": 3,
   "metadata": {},
   "outputs": [],
   "source": [
    "import numpy as np\n",
    "import pandas as pd\n",
    "import seaborn as sns\n",
    "from matplotlib import pyplot as plt\n",
    "%matplotlib inline"
   ]
  },
  {
   "cell_type": "markdown",
   "metadata": {},
   "source": [
    "## the agent with a lower probability cap playing against itself (the same statistics as the ones used in exploration, but n=1000)"
   ]
  },
  {
   "cell_type": "code",
   "execution_count": 4,
   "metadata": {},
   "outputs": [
    {
     "name": "stderr",
     "output_type": "stream",
     "text": [
      "100%|████████████████████████████████████████████████████████████████████████████| 1000/1000 [6:34:25<00:00, 23.67s/it]"
     ]
    },
    {
     "name": "stdout",
     "output_type": "stream",
     "text": [
      "Average number of moves: 127.385\n",
      "Median number of moves: 143.0\n",
      "Min number of moves: 9\n",
      "Max number of moves: 441\n",
      "Games with more than 150 moves: 203 (20.3%)\n",
      "Games lost because of an empty front row: 988 (98.8%)\n"
     ]
    },
    {
     "name": "stderr",
     "output_type": "stream",
     "text": [
      "\n"
     ]
    },
    {
     "data": {
      "text/plain": [
       "<matplotlib.axes._subplots.AxesSubplot at 0x1af03883408>"
      ]
     },
     "execution_count": 4,
     "metadata": {},
     "output_type": "execute_result"
    },
    {
     "data": {
      "image/png": "[encoded data removed]",
      "text/plain": [
       "<Figure size 432x288 with 1 Axes>"
      ]
     },
     "metadata": {
      "needs_background": "light"
     },
     "output_type": "display_data"
    }
   ],
   "source": [
    "rl = MinimaxRLAgent(model, 0.0, min_prob=0.05, choose_highest_rated_move=True)\n",
    "\n",
    "nb_moves = []\n",
    "max_stones = []\n",
    "nb_over150 = 0\n",
    "empty_front_row = 0\n",
    "\n",
    "for i in trange(1000):\n",
    "    env.reset()\n",
    "    n = 0\n",
    "    game_max = 0\n",
    "    while not env.done:\n",
    "        n += 1\n",
    "        action = rl.move(env.state, get_available_actions(env.state))\n",
    "        env.step(action)\n",
    "        max_nb = np.max(env.state)\n",
    "        game_max = max(game_max, max_nb)\n",
    "    if np.max(env.state[1]) == 0:\n",
    "        empty_front_row += 1\n",
    "    if n > 150:\n",
    "        nb_over150 += 1\n",
    "    nb_moves.append(n)\n",
    "    max_stones.append(game_max)\n",
    "\n",
    "\n",
    "moves = np.asarray(nb_moves)\n",
    "\n",
    "print(\"Average number of moves: \" + str(np.average(moves)))\n",
    "print(\"Median number of moves: \" + str(np.median(moves)))\n",
    "print(\"Min number of moves: \" + str(moves.min()))\n",
    "print(\"Max number of moves: \" + str(moves.max()))\n",
    "print(\"Games with more than 150 moves: \" + str(nb_over150) + \" (\" + str(nb_over150 / 10) + \"%)\")\n",
    "print(\"Games lost because of an empty front row: \" + str(empty_front_row) + \" (\" + str(empty_front_row / 10) + \"%)\")\n",
    "\n",
    "max_stones_series = pd.Series(max_stones)\n",
    "plt.title('maximum amount of stones on a field')\n",
    "sns.countplot(max_stones_series)"
   ]
  }
 ],
 "metadata": {
  "kernelspec": {
   "display_name": "Python 3",
   "language": "python",
   "name": "python3"
  },
  "language_info": {
   "codemirror_mode": {
    "name": "ipython",
    "version": 3
   },
   "file_extension": ".py",
   "mimetype": "text/x-python",
   "name": "python",
   "nbconvert_exporter": "python",
   "pygments_lexer": "ipython3",
   "version": "3.7.5"
  }
 },
 "nbformat": 4,
 "nbformat_minor": 2
}
