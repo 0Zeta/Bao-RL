{
 "cells": [
  {
   "cell_type": "code",
   "execution_count": 1,
   "metadata": {},
   "outputs": [],
   "source": [
    "import gym\n",
    "import numpy as np\n",
    "from random import choice\n",
    "import hus_bao"
   ]
  },
  {
   "cell_type": "code",
   "execution_count": 2,
   "metadata": {},
   "outputs": [
    {
     "name": "stderr",
     "output_type": "stream",
     "text": [
      "C:\\Users\\L\\AppData\\Roaming\\Python\\Python37\\site-packages\\gym\\envs\\registration.py:14: PkgResourcesDeprecationWarning: Parameters to load are deprecated.  Call .resolve and .require separately.\n",
      "  result = entry_point.load(False)\n"
     ]
    }
   ],
   "source": [
    "env = gym.make('HusBao-v0')"
   ]
  },
  {
   "cell_type": "code",
   "execution_count": 3,
   "metadata": {},
   "outputs": [
    {
     "name": "stdout",
     "output_type": "stream",
     "text": [
      "Average: 28.494\n",
      "Median: 22.0\n",
      "Min: 3\n",
      "Max: 237\n"
     ]
    }
   ],
   "source": [
    "nb_moves = []\n",
    "\n",
    "for i in range(10000):\n",
    "    env.reset()\n",
    "    i = 0\n",
    "    while not env.done:\n",
    "        i += 1\n",
    "        action = choice(env.get_available_actions())\n",
    "        env.step(action)  # take a random action\n",
    "    nb_moves.append(i)\n",
    "\n",
    "\n",
    "data = np.asarray(nb_moves)\n",
    "\n",
    "print(\"Average: \" + str(np.average(data)))\n",
    "print(\"Median: \" + str(np.median(data)))\n",
    "print(\"Min: \" + str(data.min()))\n",
    "print(\"Max: \" + str(data.max()))"
   ]
  }
 ],
 "metadata": {
  "kernelspec": {
   "display_name": "Python 3",
   "language": "python",
   "name": "python3"
  },
  "language_info": {
   "codemirror_mode": {
    "name": "ipython",
    "version": 3
   },
   "file_extension": ".py",
   "mimetype": "text/x-python",
   "name": "python",
   "nbconvert_exporter": "python",
   "pygments_lexer": "ipython3",
   "version": "3.7.5"
  }
 },
 "nbformat": 4,
 "nbformat_minor": 2
}
