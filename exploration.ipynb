{
 "cells": [
  {
   "cell_type": "code",
   "execution_count": 1,
   "metadata": {},
   "outputs": [],
   "source": [
    "import gym\n",
    "import numpy as np\n",
    "from random import choice\n",
    "import hus_bao"
   ]
  },
  {
   "cell_type": "code",
   "execution_count": 2,
   "metadata": {},
   "outputs": [
    {
     "name": "stderr",
     "output_type": "stream",
     "text": [
      "C:\\Users\\L\\AppData\\Roaming\\Python\\Python37\\site-packages\\gym\\envs\\registration.py:14: PkgResourcesDeprecationWarning: Parameters to load are deprecated.  Call .resolve and .require separately.\n",
      "  result = entry_point.load(False)\n"
     ]
    }
   ],
   "source": [
    "env = gym.make('HusBao-v0')"
   ]
  },
  {
   "cell_type": "code",
   "execution_count": 3,
   "metadata": {},
   "outputs": [
    {
     "name": "stdout",
     "output_type": "stream",
     "text": [
      "Average: 54.12104\n",
      "Median: 39.0\n",
      "Min: 3\n",
      "Max: 603\n"
     ]
    }
   ],
   "source": [
    "nb_moves = []\n",
    "\n",
    "for _ in range(50000):\n",
    "    env.reset()\n",
    "    i = 0\n",
    "    while not env.done:\n",
    "        i += 1\n",
    "        action = choice(env.get_available_actions())\n",
    "        env.step(action)  # take a random action\n",
    "    nb_moves.append(i)\n",
    "\n",
    "\n",
    "data = np.asarray(nb_moves)\n",
    "\n",
    "print(\"Average: \" + str(np.average(data)))\n",
    "print(\"Median: \" + str(np.median(data)))\n",
    "print(\"Min: \" + str(data.min()))\n",
    "print(\"Max: \" + str(data.max()))"
   ]
  },
  {
   "cell_type": "code",
   "execution_count": null,
   "metadata": {},
   "outputs": [],
   "source": [
    "nb_over150 = 0\n",
    "for _ in range(10000):\n",
    "    env.reset()\n",
    "    i = 0\n",
    "    while not env.done:\n",
    "        i += 1\n",
    "        action = choice(env.get_available_actions())\n",
    "        env.step(action)  # take a random action\n",
    "    if i > 150:\n",
    "        nb_over100 += 1\n",
    "print(\"Games with more than 100 moves: \" + str(nb_over100) + \" (\" + str(nb_over100 / 100) + \"%)\")"
   ]
  },
  {
   "cell_type": "code",
   "execution_count": null,
   "metadata": {},
   "outputs": [],
   "source": []
  }
 ],
 "metadata": {
  "kernelspec": {
   "display_name": "Python 3",
   "language": "python",
   "name": "python3"
  },
  "language_info": {
   "codemirror_mode": {
    "name": "ipython",
    "version": 3
   },
   "file_extension": ".py",
   "mimetype": "text/x-python",
   "name": "python",
   "nbconvert_exporter": "python",
   "pygments_lexer": "ipython3",
   "version": "3.7.5"
  }
 },
 "nbformat": 4,
 "nbformat_minor": 2
}
