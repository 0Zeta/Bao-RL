{
 "cells": [
  {
   "cell_type": "code",
   "execution_count": 3,
   "metadata": {},
   "outputs": [],
   "source": [
    "import gym\n",
    "import numpy as np\n",
    "from random import choice\n",
    "import hus_bao"
   ]
  },
  {
   "cell_type": "code",
   "execution_count": 4,
   "metadata": {},
   "outputs": [
    {
     "name": "stderr",
     "output_type": "stream",
     "text": [
      "C:\\Users\\L\\AppData\\Roaming\\Python\\Python37\\site-packages\\gym\\envs\\registration.py:14: PkgResourcesDeprecationWarning: Parameters to load are deprecated.  Call .resolve and .require separately.\n",
      "  result = entry_point.load(False)\n"
     ]
    }
   ],
   "source": [
    "env = gym.make('HusBao-v0')"
   ]
  },
  {
   "cell_type": "code",
   "execution_count": 3,
   "metadata": {},
   "outputs": [
    {
     "name": "stdout",
     "output_type": "stream",
     "text": [
      "Average: 54.12104\n",
      "Median: 39.0\n",
      "Min: 3\n",
      "Max: 603\n"
     ]
    }
   ],
   "source": [
    "nb_moves = []\n",
    "\n",
    "for _ in range(50000):\n",
    "    env.reset()\n",
    "    i = 0\n",
    "    while not env.done:\n",
    "        i += 1\n",
    "        action = choice(env.get_available_actions())\n",
    "        env.step(action)  # take a random action\n",
    "    nb_moves.append(i)\n",
    "\n",
    "\n",
    "data = np.asarray(nb_moves)\n",
    "\n",
    "print(\"Average: \" + str(np.average(data)))\n",
    "print(\"Median: \" + str(np.median(data)))\n",
    "print(\"Min: \" + str(data.min()))\n",
    "print(\"Max: \" + str(data.max()))"
   ]
  },
  {
   "cell_type": "code",
   "execution_count": 4,
   "metadata": {},
   "outputs": [
    {
     "name": "stdout",
     "output_type": "stream",
     "text": [
      "Playing game 10000\n",
      "Playing game 20000\n",
      "Playing game 30000\n",
      "Playing game 40000\n",
      "Playing game 50000\n",
      "Playing game 60000\n",
      "Playing game 70000\n",
      "Playing game 80000\n",
      "Playing game 90000\n",
      "Maximum amount of stones on one field: 32\n",
      "Games with more than 150 moves: 5097 (5.097%)\n",
      "Games lost because of an empty front row: 99413 (99.413%)\n"
     ]
    }
   ],
   "source": [
    "max_stones = 0\n",
    "nb_over150 = 0\n",
    "empty_front_row = 0\n",
    "for i in range(100000):\n",
    "    if i > 0 and i % 10000 == 0:\n",
    "        print(\"Playing game\", i)\n",
    "    env.reset()\n",
    "    m = 0\n",
    "    while not env.done:\n",
    "        m += 1\n",
    "        action = choice(env.get_available_actions())\n",
    "        env.step(action)\n",
    "        max_nb = np.max(env.state)\n",
    "        max_stones = max(max_stones, max_nb)\n",
    "    if np.max(env.state[1]) == 0:\n",
    "        empty_front_row += 1\n",
    "    if m > 150:\n",
    "        nb_over150 += 1\n",
    "print(\"Maximum amount of stones on one field:\", max_stones)\n",
    "print(\"Games with more than 150 moves: \" + str(nb_over150) + \" (\" + str(nb_over150 / 1000) + \"%)\")\n",
    "print(\"Games lost because of an empty front row: \" + str(empty_front_row) + \" (\" + str(empty_front_row / 1000) + \"%)\")"
   ]
  },
  {
   "cell_type": "code",
   "execution_count": 7,
   "metadata": {},
   "outputs": [],
   "source": [
    "import pandas as pd\n",
    "import seaborn as sns\n",
    "from matplotlib import pyplot as plt\n",
    "%matplotlib inline"
   ]
  },
  {
   "cell_type": "code",
   "execution_count": 18,
   "metadata": {},
   "outputs": [
    {
     "name": "stdout",
     "output_type": "stream",
     "text": [
      "Playing game 10000\n",
      "Playing game 20000\n",
      "Playing game 30000\n",
      "Playing game 40000\n",
      "Playing game 50000\n",
      "Playing game 60000\n",
      "Playing game 70000\n",
      "Playing game 80000\n",
      "Playing game 90000\n",
      "13    0.13572\n",
      "12    0.13414\n",
      "14    0.12021\n",
      "11    0.11421\n",
      "15    0.09794\n",
      "10    0.08878\n",
      "16    0.07164\n",
      "9     0.05885\n",
      "17    0.04944\n",
      "18    0.03220\n",
      "8     0.03153\n",
      "19    0.02024\n",
      "7     0.01269\n",
      "20    0.01230\n",
      "21    0.00745\n",
      "22    0.00456\n",
      "6     0.00266\n",
      "23    0.00233\n",
      "24    0.00145\n",
      "25    0.00072\n",
      "26    0.00053\n",
      "27    0.00028\n",
      "28    0.00004\n",
      "29    0.00004\n",
      "31    0.00003\n",
      "30    0.00001\n",
      "5     0.00001\n",
      "dtype: float64\n"
     ]
    },
    {
     "data": {
      "image/png": "[encoded data removed]",
      "text/plain": [
       "<Figure size 432x288 with 1 Axes>"
      ]
     },
     "metadata": {
      "needs_background": "light"
     },
     "output_type": "display_data"
    }
   ],
   "source": [
    "max_stones = []\n",
    "for i in range(100000):\n",
    "    if i > 0 and i % 10000 == 0:\n",
    "        print(\"Playing game\", i)\n",
    "    env.reset()\n",
    "    m = 0\n",
    "    game_max = 0\n",
    "    while not env.done:\n",
    "        m += 1\n",
    "        action = choice(env.get_available_actions())\n",
    "        env.step(action)\n",
    "        max_nb = np.max(env.state)\n",
    "        game_max = max(game_max, max_nb)\n",
    "    max_stones.append(game_max)\n",
    "\n",
    "max_stones_series = pd.Series(max_stones)\n",
    "sns.countplot(max_stones_series)\n",
    "print(max_stones_series.value_counts() / max_stones_series.value_counts().sum())"
   ]
  },
  {
   "cell_type": "code",
   "execution_count": null,
   "metadata": {},
   "outputs": [],
   "source": []
  }
 ],
 "metadata": {
  "kernelspec": {
   "display_name": "Python 3",
   "language": "python",
   "name": "python3"
  },
  "language_info": {
   "codemirror_mode": {
    "name": "ipython",
    "version": 3
   },
   "file_extension": ".py",
   "mimetype": "text/x-python",
   "name": "python",
   "nbconvert_exporter": "python",
   "pygments_lexer": "ipython3",
   "version": "3.7.5"
  }
 },
 "nbformat": 4,
 "nbformat_minor": 2
}
