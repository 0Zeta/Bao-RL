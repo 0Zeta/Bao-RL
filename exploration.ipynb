{
 "cells": [
  {
   "cell_type": "code",
   "execution_count": 1,
   "metadata": {},
   "outputs": [],
   "source": [
    "import gym\n",
    "import numpy as np\n",
    "from random import choice\n",
    "from tqdm import tqdm\n",
    "\n",
    "import bao_game\n",
    "from bao_game.envs.bao_utils import *"
   ]
  },
  {
   "cell_type": "code",
   "execution_count": 2,
   "metadata": {},
   "outputs": [
    {
     "name": "stderr",
     "output_type": "stream",
     "text": [
      "C:\\Users\\L\\AppData\\Roaming\\Python\\Python37\\site-packages\\gym\\envs\\registration.py:14: PkgResourcesDeprecationWarning: Parameters to load are deprecated.  Call .resolve and .require separately.\n",
      "  result = entry_point.load(False)\n"
     ]
    }
   ],
   "source": [
    "env = gym.make('Bao-v0')"
   ]
  },
  {
   "cell_type": "code",
   "execution_count": 3,
   "metadata": {},
   "outputs": [],
   "source": [
    "import pandas as pd\n",
    "import seaborn as sns\n",
    "from matplotlib import pyplot as plt\n",
    "%matplotlib inline"
   ]
  },
  {
   "cell_type": "code",
   "execution_count": 4,
   "metadata": {},
   "outputs": [
    {
     "name": "stderr",
     "output_type": "stream",
     "text": [
      "100%|█████████████████████████████████████████████████████████████████████████| 100000/100000 [12:08<00:00, 137.35it/s]"
     ]
    },
    {
     "name": "stdout",
     "output_type": "stream",
     "text": [
      "Average number of moves: 53.79607\n",
      "Median number of moves: 39.0\n",
      "Min number of moves: 3\n",
      "Max number of moves: 557\n",
      "Games with more than 150 moves: 5209 (5.209%)\n",
      "Games lost because of an empty front row: 99410 (99.41%)\n"
     ]
    },
    {
     "name": "stderr",
     "output_type": "stream",
     "text": [
      "\n"
     ]
    },
    {
     "data": {
      "text/plain": [
       "<matplotlib.axes._subplots.AxesSubplot at 0x2aa953f1f48>"
      ]
     },
     "execution_count": 4,
     "metadata": {},
     "output_type": "execute_result"
    },
    {
     "data": {
      "image/png": "[encoded data removed]",
      "text/plain": [
       "<Figure size 432x288 with 1 Axes>"
      ]
     },
     "metadata": {
      "needs_background": "light"
     },
     "output_type": "display_data"
    }
   ],
   "source": [
    "nb_moves = []\n",
    "max_stones = []\n",
    "nb_over150 = 0\n",
    "empty_front_row = 0\n",
    "\n",
    "for i in tqdm(range(100000)):\n",
    "    env.reset()\n",
    "    n = 0\n",
    "    game_max = 0\n",
    "    while not env.done:\n",
    "        n += 1\n",
    "        action = choice(get_available_actions(state=env.state))\n",
    "        env.step(action)\n",
    "        max_nb = np.max(env.state)\n",
    "        game_max = max(game_max, max_nb)\n",
    "    if np.max(env.state[1]) == 0:\n",
    "        empty_front_row += 1\n",
    "    if n > 150:\n",
    "        nb_over150 += 1\n",
    "    nb_moves.append(n)\n",
    "    max_stones.append(game_max)\n",
    "\n",
    "\n",
    "moves = np.asarray(nb_moves)\n",
    "\n",
    "print(\"Average number of moves: \" + str(np.average(moves)))\n",
    "print(\"Median number of moves: \" + str(np.median(moves)))\n",
    "print(\"Min number of moves: \" + str(moves.min()))\n",
    "print(\"Max number of moves: \" + str(moves.max()))\n",
    "print(\"Games with more than 150 moves: \" + str(nb_over150) + \" (\" + str(nb_over150 / 1000) + \"%)\")\n",
    "print(\"Games lost because of an empty front row: \" + str(empty_front_row) + \" (\" + str(empty_front_row / 1000) + \"%)\")\n",
    "\n",
    "max_stones_series = pd.Series(max_stones)\n",
    "plt.title('maximum amount of stones on a field')\n",
    "sns.countplot(max_stones_series)"
   ]
  }
 ],
 "metadata": {
  "kernelspec": {
   "display_name": "Python 3",
   "language": "python",
   "name": "python3"
  },
  "language_info": {
   "codemirror_mode": {
    "name": "ipython",
    "version": 3
   },
   "file_extension": ".py",
   "mimetype": "text/x-python",
   "name": "python",
   "nbconvert_exporter": "python",
   "pygments_lexer": "ipython3",
   "version": "3.7.5"
  }
 },
 "nbformat": 4,
 "nbformat_minor": 2
}
